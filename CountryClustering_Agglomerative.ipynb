{
 "cells": [
  {
   "cell_type": "markdown",
   "metadata": {},
   "source": [
    "# Clustering Country Data \n",
    "## Introduction\n",
    "\n",
    "This project is inspired by the **Kaggle** dataset: ***Unsupervised Learning on Country Data***.\n",
    "The Kaggle dataset states the problem as a Country Categorization based on their development to determine which group of countries requires the most attention from the NGO Help International: an international humanitarian NGO that fights poverty.\n",
    "\n",
    "Our objective is to master clustering algorithms by developing naive from scratch versions and comparing their results to the sklearn and scipy versions. This Notebook will focus on the ***Hierarchical Clustering*** specifically ***Agglomerative Clustering***. A clustering method where each observation starts as its singleton cluster, then clusters are merged based on their distance iteratively until only one remains.\n",
    "\n",
    "We implemeneted the **Agglomerative Clustering** from scratch in the class *AgglomerativeClustering*.\n",
    "\n",
    "\n",
    "### Libraries"
   ]
  },
  {
   "cell_type": "code",
   "execution_count": 1,
   "metadata": {},
   "outputs": [],
   "source": [
    "#Data manipulation and preparation\n",
    "import pandas as pd\n",
    "pd.set_option(\"display.max_rows\", 100)\n",
    "pd.set_option(\"display.max_columns\", 100)\n",
    "pd.set_option('display.max_colwidth', None)\n",
    "\n",
    "import numpy as np\n",
    "import matplotlib.pyplot as plt \n",
    "plt.rcParams.update({'font.size': 12})\n",
    "from sklearn.preprocessing import StandardScaler\n",
    "\n",
    "#Scipy Clustering\n",
    "from scipy.spatial.distance import pdist,squareform\n",
    "from scipy.cluster.hierarchy import dendrogram,linkage,fcluster\n",
    "\n",
    "#Sklearn Clustering\n",
    "from sklearn.cluster import AgglomerativeClustering\n",
    "\n",
    "#From Scratch Clustering \n",
    "from Clustering_Algorithms import AgglomerativeClustering_fs"
   ]
  },
  {
   "cell_type": "markdown",
   "metadata": {},
   "source": [
    "## Data\n",
    "As mentioned in the introduction, we extracted data from the **Kaggle** dataset: ***Unsupervised Learning on Country Data***.\n",
    "The downloaded data contained two CSV files:\n",
    "- data-dictionary.csv: A description of the column in the Country-data.csv file.\n",
    "- Country-data.csv: The country dataset to be clustered."
   ]
  },
  {
   "cell_type": "code",
   "execution_count": 2,
   "metadata": {},
   "outputs": [
    {
     "data": {
      "text/html": [
       "<div>\n",
       "<style scoped>\n",
       "    .dataframe tbody tr th:only-of-type {\n",
       "        vertical-align: middle;\n",
       "    }\n",
       "\n",
       "    .dataframe tbody tr th {\n",
       "        vertical-align: top;\n",
       "    }\n",
       "\n",
       "    .dataframe thead th {\n",
       "        text-align: right;\n",
       "    }\n",
       "</style>\n",
       "<table border=\"1\" class=\"dataframe\">\n",
       "  <thead>\n",
       "    <tr style=\"text-align: right;\">\n",
       "      <th></th>\n",
       "      <th>Column Name</th>\n",
       "      <th>Description</th>\n",
       "    </tr>\n",
       "  </thead>\n",
       "  <tbody>\n",
       "    <tr>\n",
       "      <th>0</th>\n",
       "      <td>country</td>\n",
       "      <td>Name of the country</td>\n",
       "    </tr>\n",
       "    <tr>\n",
       "      <th>1</th>\n",
       "      <td>child_mort</td>\n",
       "      <td>Death of children under 5 years of age per 1000 live births</td>\n",
       "    </tr>\n",
       "    <tr>\n",
       "      <th>2</th>\n",
       "      <td>exports</td>\n",
       "      <td>Exports of goods and services per capita. Given as %age of the GDP per capita</td>\n",
       "    </tr>\n",
       "    <tr>\n",
       "      <th>3</th>\n",
       "      <td>health</td>\n",
       "      <td>Total health spending per capita. Given as %age of GDP per capita</td>\n",
       "    </tr>\n",
       "    <tr>\n",
       "      <th>4</th>\n",
       "      <td>imports</td>\n",
       "      <td>Imports of goods and services per capita. Given as %age of the GDP per capita</td>\n",
       "    </tr>\n",
       "    <tr>\n",
       "      <th>5</th>\n",
       "      <td>Income</td>\n",
       "      <td>Net income per person</td>\n",
       "    </tr>\n",
       "    <tr>\n",
       "      <th>6</th>\n",
       "      <td>Inflation</td>\n",
       "      <td>The measurement of the annual growth rate of the Total GDP</td>\n",
       "    </tr>\n",
       "    <tr>\n",
       "      <th>7</th>\n",
       "      <td>life_expec</td>\n",
       "      <td>The average number of years a new born child would live if the current mortality patterns are to remain the same</td>\n",
       "    </tr>\n",
       "    <tr>\n",
       "      <th>8</th>\n",
       "      <td>total_fer</td>\n",
       "      <td>The number of children that would be born to each woman if the current age-fertility rates remain the same.</td>\n",
       "    </tr>\n",
       "    <tr>\n",
       "      <th>9</th>\n",
       "      <td>gdpp</td>\n",
       "      <td>The GDP per capita. Calculated as the Total GDP divided by the total population.</td>\n",
       "    </tr>\n",
       "  </tbody>\n",
       "</table>\n",
       "</div>"
      ],
      "text/plain": [
       "  Column Name  \\\n",
       "0     country   \n",
       "1  child_mort   \n",
       "2     exports   \n",
       "3      health   \n",
       "4     imports   \n",
       "5      Income   \n",
       "6   Inflation   \n",
       "7  life_expec   \n",
       "8   total_fer   \n",
       "9        gdpp   \n",
       "\n",
       "                                                                                                        Description  \n",
       "0                                                                                               Name of the country  \n",
       "1                                                       Death of children under 5 years of age per 1000 live births  \n",
       "2                                     Exports of goods and services per capita. Given as %age of the GDP per capita  \n",
       "3                                                 Total health spending per capita. Given as %age of GDP per capita  \n",
       "4                                     Imports of goods and services per capita. Given as %age of the GDP per capita  \n",
       "5                                                                                             Net income per person  \n",
       "6                                                        The measurement of the annual growth rate of the Total GDP  \n",
       "7  The average number of years a new born child would live if the current mortality patterns are to remain the same  \n",
       "8       The number of children that would be born to each woman if the current age-fertility rates remain the same.  \n",
       "9                                  The GDP per capita. Calculated as the Total GDP divided by the total population.  "
      ]
     },
     "execution_count": 2,
     "metadata": {},
     "output_type": "execute_result"
    }
   ],
   "source": [
    "#Read dictionary data\n",
    "data_dictionary = pd.read_csv('./Data/data-dictionary.csv')\n",
    "data_dictionary"
   ]
  },
  {
   "cell_type": "code",
   "execution_count": 3,
   "metadata": {},
   "outputs": [
    {
     "data": {
      "text/html": [
       "<div>\n",
       "<style scoped>\n",
       "    .dataframe tbody tr th:only-of-type {\n",
       "        vertical-align: middle;\n",
       "    }\n",
       "\n",
       "    .dataframe tbody tr th {\n",
       "        vertical-align: top;\n",
       "    }\n",
       "\n",
       "    .dataframe thead th {\n",
       "        text-align: right;\n",
       "    }\n",
       "</style>\n",
       "<table border=\"1\" class=\"dataframe\">\n",
       "  <thead>\n",
       "    <tr style=\"text-align: right;\">\n",
       "      <th></th>\n",
       "      <th>child_mort</th>\n",
       "      <th>exports</th>\n",
       "      <th>health</th>\n",
       "      <th>imports</th>\n",
       "      <th>income</th>\n",
       "      <th>inflation</th>\n",
       "      <th>life_expec</th>\n",
       "      <th>total_fer</th>\n",
       "      <th>gdpp</th>\n",
       "    </tr>\n",
       "    <tr>\n",
       "      <th>country</th>\n",
       "      <th></th>\n",
       "      <th></th>\n",
       "      <th></th>\n",
       "      <th></th>\n",
       "      <th></th>\n",
       "      <th></th>\n",
       "      <th></th>\n",
       "      <th></th>\n",
       "      <th></th>\n",
       "    </tr>\n",
       "  </thead>\n",
       "  <tbody>\n",
       "    <tr>\n",
       "      <th>Afghanistan</th>\n",
       "      <td>90.2</td>\n",
       "      <td>10.0</td>\n",
       "      <td>7.58</td>\n",
       "      <td>44.9</td>\n",
       "      <td>1610</td>\n",
       "      <td>9.44</td>\n",
       "      <td>56.2</td>\n",
       "      <td>5.82</td>\n",
       "      <td>553</td>\n",
       "    </tr>\n",
       "    <tr>\n",
       "      <th>Albania</th>\n",
       "      <td>16.6</td>\n",
       "      <td>28.0</td>\n",
       "      <td>6.55</td>\n",
       "      <td>48.6</td>\n",
       "      <td>9930</td>\n",
       "      <td>4.49</td>\n",
       "      <td>76.3</td>\n",
       "      <td>1.65</td>\n",
       "      <td>4090</td>\n",
       "    </tr>\n",
       "    <tr>\n",
       "      <th>Algeria</th>\n",
       "      <td>27.3</td>\n",
       "      <td>38.4</td>\n",
       "      <td>4.17</td>\n",
       "      <td>31.4</td>\n",
       "      <td>12900</td>\n",
       "      <td>16.10</td>\n",
       "      <td>76.5</td>\n",
       "      <td>2.89</td>\n",
       "      <td>4460</td>\n",
       "    </tr>\n",
       "    <tr>\n",
       "      <th>Angola</th>\n",
       "      <td>119.0</td>\n",
       "      <td>62.3</td>\n",
       "      <td>2.85</td>\n",
       "      <td>42.9</td>\n",
       "      <td>5900</td>\n",
       "      <td>22.40</td>\n",
       "      <td>60.1</td>\n",
       "      <td>6.16</td>\n",
       "      <td>3530</td>\n",
       "    </tr>\n",
       "    <tr>\n",
       "      <th>Antigua and Barbuda</th>\n",
       "      <td>10.3</td>\n",
       "      <td>45.5</td>\n",
       "      <td>6.03</td>\n",
       "      <td>58.9</td>\n",
       "      <td>19100</td>\n",
       "      <td>1.44</td>\n",
       "      <td>76.8</td>\n",
       "      <td>2.13</td>\n",
       "      <td>12200</td>\n",
       "    </tr>\n",
       "  </tbody>\n",
       "</table>\n",
       "</div>"
      ],
      "text/plain": [
       "                     child_mort  exports  health  imports  income  inflation  \\\n",
       "country                                                                        \n",
       "Afghanistan                90.2     10.0    7.58     44.9    1610       9.44   \n",
       "Albania                    16.6     28.0    6.55     48.6    9930       4.49   \n",
       "Algeria                    27.3     38.4    4.17     31.4   12900      16.10   \n",
       "Angola                    119.0     62.3    2.85     42.9    5900      22.40   \n",
       "Antigua and Barbuda        10.3     45.5    6.03     58.9   19100       1.44   \n",
       "\n",
       "                     life_expec  total_fer   gdpp  \n",
       "country                                            \n",
       "Afghanistan                56.2       5.82    553  \n",
       "Albania                    76.3       1.65   4090  \n",
       "Algeria                    76.5       2.89   4460  \n",
       "Angola                     60.1       6.16   3530  \n",
       "Antigua and Barbuda        76.8       2.13  12200  "
      ]
     },
     "execution_count": 3,
     "metadata": {},
     "output_type": "execute_result"
    }
   ],
   "source": [
    "#Read country data\n",
    "country_data = pd.read_csv('./Data/Country-data.csv')\n",
    "country_data = country_data.set_index('country')\n",
    "features = country_data.columns\n",
    "country_data.head()"
   ]
  },
  {
   "cell_type": "markdown",
   "metadata": {},
   "source": [
    "The country data contains nine socio-economic and health factors with different scales that can impact the distance between clusters, so we will standardize our dataset before jumping into the clustering section."
   ]
  },
  {
   "cell_type": "code",
   "execution_count": 4,
   "metadata": {},
   "outputs": [
    {
     "data": {
      "text/plain": [
       "array([[ 1.29153238, -1.13827979,  0.27908825, -0.08245496, -0.8082454 ,\n",
       "         0.15733622, -1.61909203,  1.90288227, -0.67917961],\n",
       "       [-0.5389489 , -0.47965843, -0.09701618,  0.07083669, -0.3753689 ,\n",
       "        -0.31234747,  0.64786643, -0.85997281, -0.48562324],\n",
       "       [-0.27283273, -0.09912164, -0.96607302, -0.64176233, -0.22084447,\n",
       "         0.78927429,  0.67042323, -0.0384044 , -0.46537561],\n",
       "       [ 2.00780766,  0.77538117, -1.44807093, -0.16531531, -0.58504345,\n",
       "         1.38705353, -1.17923442,  2.12815103, -0.51626829],\n",
       "       [-0.69563412,  0.1606679 , -0.28689415,  0.4975675 ,  0.10173177,\n",
       "        -0.60174853,  0.70425843, -0.54194633, -0.04181713]])"
      ]
     },
     "execution_count": 4,
     "metadata": {},
     "output_type": "execute_result"
    }
   ],
   "source": [
    "#Standarization \n",
    "sc = StandardScaler()\n",
    "X = sc.fit_transform(country_data)\n",
    "X[:5]"
   ]
  },
  {
   "cell_type": "markdown",
   "metadata": {},
   "source": [
    "## Single Linkage Clustering\n",
    "This section will focus on *Agglomerative clustering* using **Single Linkage Criterion**.\n",
    "\n",
    "Single Linkage Critereon: is agglomerative clustering method where we merge the pair of clusters (s) and (r) that has the smallest distance. And the new distance between the new formed cluster (rs) and a point i is $d[(rs),i] = min(d[(r),i],d[(s),i])$.\n",
    "\n",
    "### Clustering using the scipy linkage\n",
    "In this section, we will use the Scipy linkage function that takes as input an array of Pairwise distances between observations and returns a linkage matrix."
   ]
  },
  {
   "cell_type": "code",
   "execution_count": 5,
   "metadata": {},
   "outputs": [
    {
     "data": {
      "text/plain": [
       "array([[ 41.        , 121.        ,   0.27051092,   2.        ],\n",
       "       [ 75.        , 139.        ,   0.34593963,   2.        ],\n",
       "       [ 24.        ,  85.        ,   0.42313147,   2.        ],\n",
       "       [158.        , 168.        ,   0.44439532,   3.        ],\n",
       "       [ 60.        , 170.        ,   0.48706989,   4.        ],\n",
       "       [111.        , 171.        ,   0.49433038,   5.        ],\n",
       "       [ 92.        , 169.        ,   0.51509622,   3.        ],\n",
       "       [100.        , 173.        ,   0.51637177,   4.        ],\n",
       "       [122.        , 172.        ,   0.54410516,   6.        ],\n",
       "       [  1.        ,  48.        ,   0.55954063,   2.        ],\n",
       "       [ 53.        , 144.        ,   0.56879938,   2.        ],\n",
       "       [ 29.        ,  54.        ,   0.59031996,   2.        ],\n",
       "       [ 13.        , 167.        ,   0.59915403,   3.        ],\n",
       "       [ 20.        , 130.        ,   0.60456236,   2.        ],\n",
       "       [  6.        ,  76.        ,   0.61339705,   2.        ]])"
      ]
     },
     "execution_count": 5,
     "metadata": {},
     "output_type": "execute_result"
    }
   ],
   "source": [
    "# Clustering using the scipy linkage\n",
    "Z_single = linkage(pdist(X), 'single')\n",
    "Z_single[:15]"
   ]
  },
  {
   "cell_type": "code",
   "execution_count": 6,
   "metadata": {},
   "outputs": [
    {
     "data": {
      "text/plain": [
       "array([[ 38.        , 317.        ,   1.87250938, 151.        ],\n",
       "       [131.        , 318.        ,   1.9449399 , 152.        ],\n",
       "       [304.        , 319.        ,   1.95496977, 155.        ],\n",
       "       [132.        , 320.        ,   1.98771227, 156.        ],\n",
       "       [ 49.        , 321.        ,   2.16257048, 157.        ],\n",
       "       [ 87.        , 322.        ,   2.1749395 , 158.        ],\n",
       "       [103.        , 163.        ,   2.2826176 ,   2.        ],\n",
       "       [323.        , 324.        ,   2.35073385, 160.        ],\n",
       "       [159.        , 325.        ,   2.45882604, 161.        ],\n",
       "       [123.        , 326.        ,   3.18189336, 162.        ],\n",
       "       [ 66.        , 327.        ,   3.23958591, 163.        ],\n",
       "       [ 98.        , 133.        ,   3.73565123,   2.        ],\n",
       "       [328.        , 329.        ,   3.74127926, 165.        ],\n",
       "       [ 91.        , 330.        ,   4.00378615, 166.        ],\n",
       "       [113.        , 331.        ,   6.84286879, 167.        ]])"
      ]
     },
     "execution_count": 6,
     "metadata": {},
     "output_type": "execute_result"
    }
   ],
   "source": [
    "Z_single[-15:]"
   ]
  },
  {
   "cell_type": "markdown",
   "metadata": {},
   "source": [
    "The distances in the resultant Linkage matrix ranges from 0.27 to 6.84.<br>\n",
    "The higher the distance between formed clusters, the higher the disparities between the countries of the group.\n",
    "At the head of our Linkage matrix, we note that if we choose a maximal distance of 0.5, we will get one cluster of 4 elements, and the rest of the countries will be singletons. For our clusterization to draw some meaningful conclusions, we will need to choose a maximal distance that reduces the clusters.<br>\n",
    "In the tail of our Linkage matrix, We can see at 3.7 that we merged two singletons. It implies that if we choose a 3.8 as the maximal distance, we will obtain: one cluster of 163 countries, another with two countries, and two singletons. We need to highlight two remarks:\n",
    "- In our dataset, even with a high maximal distance, we will get singletons. The last line is a marge between a 166 elements cluster and a singleton.\n",
    "- The cluster is large, that we can't draw any meaningful patterns from it.\n",
    "\n",
    "To ensure that we form well compact clusters, we need to choose a small enough maximal distance. But still high enough to reduce the number of singletons.<br>\n",
    "We will use the dendrogram to choose the maximal distance, by drawing the lines at 1, 1.5, 2, and 2.5. "
   ]
  },
  {
   "cell_type": "code",
   "execution_count": 7,
   "metadata": {},
   "outputs": [
    {
     "data": {
      "image/png": "[encoded data removed]",
      "text/plain": [
       "<Figure size 1440x720 with 1 Axes>"
      ]
     },
     "metadata": {
      "needs_background": "light"
     },
     "output_type": "display_data"
    }
   ],
   "source": [
    "fig = plt.figure(figsize=(20, 10))\n",
    "dn = dendrogram(Z_single,truncate_mode='level',p=15,get_leaves=False,leaf_font_size=12.,)\n",
    "plt.axhline(y=2.5)\n",
    "plt.axhline(y=2)\n",
    "plt.axhline(y=1.5)\n",
    "plt.axhline(y=1)\n",
    "plt.show()"
   ]
  },
  {
   "cell_type": "markdown",
   "metadata": {},
   "source": [
    "To have a readable graph, we have chosen to truncate our dendrogram at level 12, so we don't have all the formation steps of the cluster.\n",
    "- Maximal distance 1.0: From the dendrogram, we have at least 19 singletons, a cluster with two countries, and another with a maximum of 146 members. \n",
    "- Maximal distance 1.5: In addition to the cluster formed at 1, three countries merged to a new one. (country indexes: 101, 81, and 88)\n",
    "- Maximal distance 2.0: We see that the line cuts the dendrogram at the root level of a cluster with 156 counties, and all the 11 remaining countries are singletons.\n",
    "- Maximal distance 2.5: At this level, only six countries didn't merge with any cluster. And we have a group with 161 countries.\n",
    "\n",
    "High distances obtained a large cluster, from which we can't obtain meaningful patterns, and didn't guarantee to get rid of singletons. So we will focus on the clusters of maximal distance 1."
   ]
  },
  {
   "cell_type": "code",
   "execution_count": 8,
   "metadata": {},
   "outputs": [
    {
     "data": {
      "text/html": [
       "<div>\n",
       "<style scoped>\n",
       "    .dataframe tbody tr th:only-of-type {\n",
       "        vertical-align: middle;\n",
       "    }\n",
       "\n",
       "    .dataframe tbody tr th {\n",
       "        vertical-align: top;\n",
       "    }\n",
       "\n",
       "    .dataframe thead th {\n",
       "        text-align: right;\n",
       "    }\n",
       "</style>\n",
       "<table border=\"1\" class=\"dataframe\">\n",
       "  <thead>\n",
       "    <tr style=\"text-align: right;\">\n",
       "      <th></th>\n",
       "      <th>child_mort</th>\n",
       "      <th>exports</th>\n",
       "      <th>health</th>\n",
       "      <th>imports</th>\n",
       "      <th>income</th>\n",
       "      <th>inflation</th>\n",
       "      <th>life_expec</th>\n",
       "      <th>total_fer</th>\n",
       "      <th>gdpp</th>\n",
       "      <th>Single_Clusters_1</th>\n",
       "    </tr>\n",
       "    <tr>\n",
       "      <th>country</th>\n",
       "      <th></th>\n",
       "      <th></th>\n",
       "      <th></th>\n",
       "      <th></th>\n",
       "      <th></th>\n",
       "      <th></th>\n",
       "      <th></th>\n",
       "      <th></th>\n",
       "      <th></th>\n",
       "      <th></th>\n",
       "    </tr>\n",
       "  </thead>\n",
       "  <tbody>\n",
       "    <tr>\n",
       "      <th>Afghanistan</th>\n",
       "      <td>90.2</td>\n",
       "      <td>10.0</td>\n",
       "      <td>7.58</td>\n",
       "      <td>44.9</td>\n",
       "      <td>1610</td>\n",
       "      <td>9.44</td>\n",
       "      <td>56.2</td>\n",
       "      <td>5.82</td>\n",
       "      <td>553</td>\n",
       "      <td>13</td>\n",
       "    </tr>\n",
       "    <tr>\n",
       "      <th>Albania</th>\n",
       "      <td>16.6</td>\n",
       "      <td>28.0</td>\n",
       "      <td>6.55</td>\n",
       "      <td>48.6</td>\n",
       "      <td>9930</td>\n",
       "      <td>4.49</td>\n",
       "      <td>76.3</td>\n",
       "      <td>1.65</td>\n",
       "      <td>4090</td>\n",
       "      <td>27</td>\n",
       "    </tr>\n",
       "    <tr>\n",
       "      <th>Algeria</th>\n",
       "      <td>27.3</td>\n",
       "      <td>38.4</td>\n",
       "      <td>4.17</td>\n",
       "      <td>31.4</td>\n",
       "      <td>12900</td>\n",
       "      <td>16.10</td>\n",
       "      <td>76.5</td>\n",
       "      <td>2.89</td>\n",
       "      <td>4460</td>\n",
       "      <td>34</td>\n",
       "    </tr>\n",
       "    <tr>\n",
       "      <th>Angola</th>\n",
       "      <td>119.0</td>\n",
       "      <td>62.3</td>\n",
       "      <td>2.85</td>\n",
       "      <td>42.9</td>\n",
       "      <td>5900</td>\n",
       "      <td>22.40</td>\n",
       "      <td>60.1</td>\n",
       "      <td>6.16</td>\n",
       "      <td>3530</td>\n",
       "      <td>53</td>\n",
       "    </tr>\n",
       "    <tr>\n",
       "      <th>Antigua and Barbuda</th>\n",
       "      <td>10.3</td>\n",
       "      <td>45.5</td>\n",
       "      <td>6.03</td>\n",
       "      <td>58.9</td>\n",
       "      <td>19100</td>\n",
       "      <td>1.44</td>\n",
       "      <td>76.8</td>\n",
       "      <td>2.13</td>\n",
       "      <td>12200</td>\n",
       "      <td>27</td>\n",
       "    </tr>\n",
       "  </tbody>\n",
       "</table>\n",
       "</div>"
      ],
      "text/plain": [
       "                     child_mort  exports  health  imports  income  inflation  \\\n",
       "country                                                                        \n",
       "Afghanistan                90.2     10.0    7.58     44.9    1610       9.44   \n",
       "Albania                    16.6     28.0    6.55     48.6    9930       4.49   \n",
       "Algeria                    27.3     38.4    4.17     31.4   12900      16.10   \n",
       "Angola                    119.0     62.3    2.85     42.9    5900      22.40   \n",
       "Antigua and Barbuda        10.3     45.5    6.03     58.9   19100       1.44   \n",
       "\n",
       "                     life_expec  total_fer   gdpp  Single_Clusters_1  \n",
       "country                                                               \n",
       "Afghanistan                56.2       5.82    553                 13  \n",
       "Albania                    76.3       1.65   4090                 27  \n",
       "Algeria                    76.5       2.89   4460                 34  \n",
       "Angola                     60.1       6.16   3530                 53  \n",
       "Antigua and Barbuda        76.8       2.13  12200                 27  "
      ]
     },
     "execution_count": 8,
     "metadata": {},
     "output_type": "execute_result"
    }
   ],
   "source": [
    "max_dist=1\n",
    "country_data['Single_Clusters_1'] = fcluster(Z_single, t=max_dist, criterion='distance')\n",
    "country_data.head()"
   ]
  },
  {
   "cell_type": "code",
   "execution_count": 9,
   "metadata": {},
   "outputs": [
    {
     "data": {
      "text/plain": [
       "72"
      ]
     },
     "execution_count": 9,
     "metadata": {},
     "output_type": "execute_result"
    }
   ],
   "source": [
    "len(np.unique(country_data.Single_Clusters_1))"
   ]
  },
  {
   "cell_type": "code",
   "execution_count": 10,
   "metadata": {},
   "outputs": [
    {
     "data": {
      "text/plain": [
       "27    59\n",
       "9     16\n",
       "13     8\n",
       "11     5\n",
       "15     4\n",
       "14     3\n",
       "4      2\n",
       "5      2\n",
       "26     2\n",
       "8      2\n",
       "30     2\n",
       "29     2\n",
       "Name: Single_Clusters_1, dtype: int64"
      ]
     },
     "execution_count": 10,
     "metadata": {},
     "output_type": "execute_result"
    }
   ],
   "source": [
    "country_data.Single_Clusters_1.value_counts()[country_data.Single_Clusters_1.value_counts()>1]"
   ]
  },
  {
   "cell_type": "markdown",
   "metadata": {},
   "source": [
    "We obtained 72 clusters, including 60 singletons, six with two countries each, and six others of sizes 4, 5, 8, 16, and the largest cluster with 59 countries.<br>\n",
    "In the following, we will compare the results to the sklearn and from-scratch ones, then take a deeper look into the obtained clusters.\n",
    "\n",
    "## Clustering using Sklearn *AgglomerativeClustering*\n",
    "The sklearn agglomerative clusterization is via the python class AgglomerativeClustering. We will create an instance of this class with the attributes: Single linkage and maximal distance 1 to compare the results with those of the scipy library."
   ]
  },
  {
   "cell_type": "code",
   "execution_count": 11,
   "metadata": {},
   "outputs": [
    {
     "data": {
      "text/plain": [
       "72"
      ]
     },
     "execution_count": 11,
     "metadata": {},
     "output_type": "execute_result"
    }
   ],
   "source": [
    "model = AgglomerativeClustering(distance_threshold=max_dist, n_clusters=None, linkage= 'single')\n",
    "country_data['Single_Clusters_2'] = model.fit_predict(X)\n",
    "len(np.unique(country_data.Single_Clusters_2))"
   ]
  },
  {
   "cell_type": "code",
   "execution_count": 12,
   "metadata": {},
   "outputs": [
    {
     "data": {
      "text/plain": [
       "2     59\n",
       "4     16\n",
       "1      8\n",
       "8      5\n",
       "0      4\n",
       "3      3\n",
       "33     2\n",
       "6      2\n",
       "7      2\n",
       "16     2\n",
       "13     2\n",
       "28     2\n",
       "Name: Single_Clusters_2, dtype: int64"
      ]
     },
     "execution_count": 12,
     "metadata": {},
     "output_type": "execute_result"
    }
   ],
   "source": [
    "country_data.Single_Clusters_2.value_counts()[country_data.Single_Clusters_2.value_counts()>1]"
   ]
  },
  {
   "cell_type": "markdown",
   "metadata": {},
   "source": [
    "We obtained the same number of clusters and the same sizes as we did with Scipy. <br>\n",
    "To make sure that these are the same clusters. We will count the number of different labels of Scipy clusters for each sklearn cluster. If we have the same cluster distribution, then we should obtain one for each."
   ]
  },
  {
   "cell_type": "code",
   "execution_count": 13,
   "metadata": {},
   "outputs": [
    {
     "name": "stdout",
     "output_type": "stream",
     "text": [
      "1\n",
      "1\n",
      "1\n",
      "1\n",
      "1\n",
      "1\n",
      "1\n",
      "1\n",
      "1\n",
      "1\n",
      "1\n",
      "1\n"
     ]
    }
   ],
   "source": [
    "for i in country_data.Single_Clusters_2.value_counts()[country_data.Single_Clusters_2.value_counts()>1].index:\n",
    "    print(len(np.unique(country_data[country_data['Single_Clusters_2']==i].Single_Clusters_1)))"
   ]
  },
  {
   "cell_type": "markdown",
   "metadata": {},
   "source": [
    "Each cluster obtained with the Sklean implementation corresponds to one obtained with scipy. It proves that we achieved the same clusterization.\n",
    "## Clustering using Cluserting_Algorithms module\n",
    "In this section, we will test our class AgglomerativeClustering_fs. This class contains a constructor that we will use to create our model instance with the attribute linkage='single'. This attribute determines the linkage criterion in our clusterization.<br>\n",
    "Then we will fit our model to the country data set. The fit method calculates the similarity matrix using the euclidean distance, then computes the linkage matrix using the linkage criterion specified when creating the model instance.<br>"
   ]
  },
  {
   "cell_type": "code",
   "execution_count": 14,
   "metadata": {},
   "outputs": [
    {
     "data": {
      "text/plain": [
       "array([[ 41.        , 121.        ,   0.27051092,   2.        ],\n",
       "       [ 75.        , 139.        ,   0.34593963,   2.        ],\n",
       "       [ 24.        ,  85.        ,   0.42313147,   2.        ],\n",
       "       [158.        , 168.        ,   0.44439532,   3.        ],\n",
       "       [ 60.        , 170.        ,   0.48706989,   4.        ]])"
      ]
     },
     "execution_count": 14,
     "metadata": {},
     "output_type": "execute_result"
    }
   ],
   "source": [
    "#Clustering using Cluserting_Algorithms module\n",
    "model_new = AgglomerativeClustering_fs.AgglomerativeClustering_fs(linkage='single')\n",
    "model_new.fit(X)\n",
    "L_single = model_new.L\n",
    "L_single[:5]"
   ]
  },
  {
   "cell_type": "code",
   "execution_count": 15,
   "metadata": {},
   "outputs": [
    {
     "data": {
      "text/plain": [
       "True"
      ]
     },
     "execution_count": 15,
     "metadata": {},
     "output_type": "execute_result"
    }
   ],
   "source": [
    "(Z_single == L_single).all()"
   ]
  },
  {
   "cell_type": "markdown",
   "metadata": {},
   "source": [
    "We obtained the same linkage matrix as scipy, so our implementation of the single linkage algorithm is correct.<br>\n",
    "We need to verify that we obtained the same clusterization. We need to compare the labels, so we will use the AgglomerativeClustering_fs method get_labels that takes as parameter max_dist, which is the threshold of maximal distance for clusters to merge. And it returns an array where the element at index 'i' corresponds to the label of the country of index 'i'."
   ]
  },
  {
   "cell_type": "code",
   "execution_count": 16,
   "metadata": {},
   "outputs": [
    {
     "data": {
      "text/html": [
       "<div>\n",
       "<style scoped>\n",
       "    .dataframe tbody tr th:only-of-type {\n",
       "        vertical-align: middle;\n",
       "    }\n",
       "\n",
       "    .dataframe tbody tr th {\n",
       "        vertical-align: top;\n",
       "    }\n",
       "\n",
       "    .dataframe thead th {\n",
       "        text-align: right;\n",
       "    }\n",
       "</style>\n",
       "<table border=\"1\" class=\"dataframe\">\n",
       "  <thead>\n",
       "    <tr style=\"text-align: right;\">\n",
       "      <th></th>\n",
       "      <th>child_mort</th>\n",
       "      <th>exports</th>\n",
       "      <th>health</th>\n",
       "      <th>imports</th>\n",
       "      <th>income</th>\n",
       "      <th>inflation</th>\n",
       "      <th>life_expec</th>\n",
       "      <th>total_fer</th>\n",
       "      <th>gdpp</th>\n",
       "      <th>Single_Clusters_1</th>\n",
       "      <th>Single_Clusters_2</th>\n",
       "      <th>Single_Clusters_3</th>\n",
       "    </tr>\n",
       "    <tr>\n",
       "      <th>country</th>\n",
       "      <th></th>\n",
       "      <th></th>\n",
       "      <th></th>\n",
       "      <th></th>\n",
       "      <th></th>\n",
       "      <th></th>\n",
       "      <th></th>\n",
       "      <th></th>\n",
       "      <th></th>\n",
       "      <th></th>\n",
       "      <th></th>\n",
       "      <th></th>\n",
       "    </tr>\n",
       "  </thead>\n",
       "  <tbody>\n",
       "    <tr>\n",
       "      <th>Afghanistan</th>\n",
       "      <td>90.2</td>\n",
       "      <td>10.0</td>\n",
       "      <td>7.58</td>\n",
       "      <td>44.9</td>\n",
       "      <td>1610</td>\n",
       "      <td>9.44</td>\n",
       "      <td>56.2</td>\n",
       "      <td>5.82</td>\n",
       "      <td>553</td>\n",
       "      <td>13</td>\n",
       "      <td>1</td>\n",
       "      <td>4</td>\n",
       "    </tr>\n",
       "    <tr>\n",
       "      <th>Albania</th>\n",
       "      <td>16.6</td>\n",
       "      <td>28.0</td>\n",
       "      <td>6.55</td>\n",
       "      <td>48.6</td>\n",
       "      <td>9930</td>\n",
       "      <td>4.49</td>\n",
       "      <td>76.3</td>\n",
       "      <td>1.65</td>\n",
       "      <td>4090</td>\n",
       "      <td>27</td>\n",
       "      <td>2</td>\n",
       "      <td>1</td>\n",
       "    </tr>\n",
       "    <tr>\n",
       "      <th>Algeria</th>\n",
       "      <td>27.3</td>\n",
       "      <td>38.4</td>\n",
       "      <td>4.17</td>\n",
       "      <td>31.4</td>\n",
       "      <td>12900</td>\n",
       "      <td>16.10</td>\n",
       "      <td>76.5</td>\n",
       "      <td>2.89</td>\n",
       "      <td>4460</td>\n",
       "      <td>34</td>\n",
       "      <td>54</td>\n",
       "      <td>24</td>\n",
       "    </tr>\n",
       "    <tr>\n",
       "      <th>Angola</th>\n",
       "      <td>119.0</td>\n",
       "      <td>62.3</td>\n",
       "      <td>2.85</td>\n",
       "      <td>42.9</td>\n",
       "      <td>5900</td>\n",
       "      <td>22.40</td>\n",
       "      <td>60.1</td>\n",
       "      <td>6.16</td>\n",
       "      <td>3530</td>\n",
       "      <td>53</td>\n",
       "      <td>45</td>\n",
       "      <td>53</td>\n",
       "    </tr>\n",
       "    <tr>\n",
       "      <th>Antigua and Barbuda</th>\n",
       "      <td>10.3</td>\n",
       "      <td>45.5</td>\n",
       "      <td>6.03</td>\n",
       "      <td>58.9</td>\n",
       "      <td>19100</td>\n",
       "      <td>1.44</td>\n",
       "      <td>76.8</td>\n",
       "      <td>2.13</td>\n",
       "      <td>12200</td>\n",
       "      <td>27</td>\n",
       "      <td>2</td>\n",
       "      <td>1</td>\n",
       "    </tr>\n",
       "  </tbody>\n",
       "</table>\n",
       "</div>"
      ],
      "text/plain": [
       "                     child_mort  exports  health  imports  income  inflation  \\\n",
       "country                                                                        \n",
       "Afghanistan                90.2     10.0    7.58     44.9    1610       9.44   \n",
       "Albania                    16.6     28.0    6.55     48.6    9930       4.49   \n",
       "Algeria                    27.3     38.4    4.17     31.4   12900      16.10   \n",
       "Angola                    119.0     62.3    2.85     42.9    5900      22.40   \n",
       "Antigua and Barbuda        10.3     45.5    6.03     58.9   19100       1.44   \n",
       "\n",
       "                     life_expec  total_fer   gdpp  Single_Clusters_1  \\\n",
       "country                                                                \n",
       "Afghanistan                56.2       5.82    553                 13   \n",
       "Albania                    76.3       1.65   4090                 27   \n",
       "Algeria                    76.5       2.89   4460                 34   \n",
       "Angola                     60.1       6.16   3530                 53   \n",
       "Antigua and Barbuda        76.8       2.13  12200                 27   \n",
       "\n",
       "                     Single_Clusters_2  Single_Clusters_3  \n",
       "country                                                    \n",
       "Afghanistan                          1                  4  \n",
       "Albania                              2                  1  \n",
       "Algeria                             54                 24  \n",
       "Angola                              45                 53  \n",
       "Antigua and Barbuda                  2                  1  "
      ]
     },
     "execution_count": 16,
     "metadata": {},
     "output_type": "execute_result"
    }
   ],
   "source": [
    "country_data['Single_Clusters_3'] = model_new.get_labels(max_dist=max_dist)\n",
    "country_data.head()"
   ]
  },
  {
   "cell_type": "code",
   "execution_count": 17,
   "metadata": {},
   "outputs": [
    {
     "data": {
      "text/plain": [
       "72"
      ]
     },
     "execution_count": 17,
     "metadata": {},
     "output_type": "execute_result"
    }
   ],
   "source": [
    "len(np.unique(country_data.Single_Clusters_3))"
   ]
  },
  {
   "cell_type": "code",
   "execution_count": 18,
   "metadata": {},
   "outputs": [
    {
     "data": {
      "text/plain": [
       "1     59\n",
       "2     16\n",
       "4      8\n",
       "3      5\n",
       "8      4\n",
       "9      3\n",
       "12     2\n",
       "10     2\n",
       "11     2\n",
       "7      2\n",
       "6      2\n",
       "5      2\n",
       "Name: Single_Clusters_3, dtype: int64"
      ]
     },
     "execution_count": 18,
     "metadata": {},
     "output_type": "execute_result"
    }
   ],
   "source": [
    "country_data.Single_Clusters_3.value_counts()[country_data.Single_Clusters_3.value_counts()>1]"
   ]
  },
  {
   "cell_type": "code",
   "execution_count": 19,
   "metadata": {},
   "outputs": [
    {
     "name": "stdout",
     "output_type": "stream",
     "text": [
      "1\n",
      "1\n",
      "1\n",
      "1\n",
      "1\n",
      "1\n",
      "1\n",
      "1\n",
      "1\n",
      "1\n",
      "1\n",
      "1\n"
     ]
    }
   ],
   "source": [
    "for i in country_data.Single_Clusters_3.value_counts()[country_data.Single_Clusters_3.value_counts()>1].index:\n",
    "    print(len(np.unique(country_data[country_data['Single_Clusters_3']==i].Single_Clusters_1)))"
   ]
  },
  {
   "cell_type": "markdown",
   "metadata": {},
   "source": [
    "We obtained the same number of clusters and sizes, and each obtained with our from-scratch model corresponds to one of scipy. These results prove that our model got the same clusterization as the pre-defined algorithms (yeah!).\n",
    "## Single Linkage Clustering Results"
   ]
  },
  {
   "cell_type": "code",
   "execution_count": 20,
   "metadata": {},
   "outputs": [
    {
     "data": {
      "text/plain": [
       "Single_Clusters_3\n",
       "1     Albania,Antigua and Barbuda,Armenia,Bahamas,Barbados,Belize,Bhutan,Bolivia,Bosnia and Herzegovina,Brazil,Bulgaria,Cambodia,Cape Verde,Chile,China,Colombia,Costa Rica,Croatia,Cyprus,Czech Republic,Dominican Republic,Ecuador,Egypt,El Salvador,Estonia,Fiji,Georgia,Grenada,Guatemala,Guyana,Hungary,Iran,Jamaica,Kyrgyz Republic,Latvia,Lebanon,Lithuania,Macedonia, FYR,Maldives,Mauritius,Montenegro,Morocco,Panama,Paraguay,Peru,Philippines,Poland,Romania,Russia,Serbia,Slovak Republic,Slovenia,South Korea,St. Vincent and the Grenadines,Suriname,Tunisia,Turkey,Uruguay,Vanuatu\n",
       "2                                                                                                                                                                                                                                                                                                                                                                                                                                                             Australia,Austria,Canada,Denmark,Finland,France,Germany,Greece,Iceland,Italy,Japan,New Zealand,Portugal,Spain,Sweden,United Kingdom\n",
       "3                                                                                                                                                                                                                                                                                                                                                                                                                                                                                                                                                         Comoros,Gambia,Kenya,Madagascar,Senegal\n",
       "4                                                                                                                                                                                                                                                                                                                                                                                                                                                                                                                       Afghanistan,Cote d'Ivoire,Guinea,Malawi,Mozambique,Tanzania,Uganda,Zambia\n",
       "5                                                                                                                                                                                                                                                                                                                                                                                                                                                                                                                                                                                   Brunei,Kuwait\n",
       "6                                                                                                                                                                                                                                                                                                                                                                                                                                                                                                                                                                                Bangladesh,India\n",
       "7                                                                                                                                                                                                                                                                                                                                                                                                                                                                                                                                                                             Belgium,Netherlands\n",
       "8                                                                                                                                                                                                                                                                                                                                                                                                                                                                                                                                                       Benin,Burkina Faso,Cameroon,Guinea-Bissau\n",
       "9                                                                                                                                                                                                                                                                                                                                                                                                                                                                                                                                                                                 Chad,Mali,Niger\n",
       "10                                                                                                                                                                                                                                                                                                                                                                                                                                                                                                                                                                              Oman,Saudi Arabia\n",
       "11                                                                                                                                                                                                                                                                                                                                                                                                                                                                                                                                                                                    Samoa,Tonga\n",
       "12                                                                                                                                                                                                                                                                                                                                                                                                                                                                                                                                                                               Nepal,Uzbekistan\n",
       "Name: country, dtype: object"
      ]
     },
     "execution_count": 20,
     "metadata": {},
     "output_type": "execute_result"
    }
   ],
   "source": [
    "clusters_labels = country_data.Single_Clusters_3.value_counts()[country_data.Single_Clusters_3.value_counts()>1].index\n",
    "countries_clusters = country_data[country_data['Single_Clusters_3'].isin(clusters_labels)].reset_index().groupby(by='Single_Clusters_3')['country'].apply(lambda x: ','.join(x))\n",
    "countries_clusters"
   ]
  },
  {
   "cell_type": "code",
   "execution_count": 21,
   "metadata": {},
   "outputs": [
    {
     "data": {
      "image/png": "[encoded data removed]",
      "text/plain": [
       "<Figure size 2016x1800 with 9 Axes>"
      ]
     },
     "metadata": {
      "needs_background": "light"
     },
     "output_type": "display_data"
    }
   ],
   "source": [
    "fig, axes = plt.subplots(nrows=3, ncols=3, figsize=(28, 25))\n",
    "\n",
    "country_data[country_data['Single_Clusters_3'].isin(clusters_labels)].boxplot(column=['exports'],by='Single_Clusters_3', fontsize=12,ax=axes[0][0])\n",
    "country_data[country_data['Single_Clusters_3'].isin(clusters_labels)].boxplot(column=['imports'],by='Single_Clusters_3',ax=axes[0][1])\n",
    "country_data[country_data['Single_Clusters_3'].isin(clusters_labels)].boxplot(column=['health'],by='Single_Clusters_3',ax=axes[0][2])\n",
    "\n",
    "country_data[country_data['Single_Clusters_3'].isin(clusters_labels)].boxplot(column=['income'],by='Single_Clusters_3',ax=axes[1][0])\n",
    "country_data[country_data['Single_Clusters_3'].isin(clusters_labels)].boxplot(column=['inflation'],by='Single_Clusters_3',ax=axes[1][1])\n",
    "country_data[country_data['Single_Clusters_3'].isin(clusters_labels)].boxplot(column=['gdpp'],by='Single_Clusters_3',ax=axes[1][2])\n",
    "\n",
    "country_data[country_data['Single_Clusters_3'].isin(clusters_labels)].boxplot(column=['child_mort'],by='Single_Clusters_3',ax=axes[2][0])\n",
    "country_data[country_data['Single_Clusters_3'].isin(clusters_labels)].boxplot(column=['life_expec'],by='Single_Clusters_3',ax=axes[2][1])\n",
    "country_data[country_data['Single_Clusters_3'].isin(clusters_labels)].boxplot(column=['total_fer'],by='Single_Clusters_3',ax=axes[2][2])\n",
    "\n",
    "fig.suptitle('Socio-Economic and Health Factors', fontsize=16)\n",
    "plt.savefig('./Img/Socio_Economic_Health_Factors_1.png')"
   ]
  },
  {
   "cell_type": "markdown",
   "metadata": {},
   "source": [
    "Overall we can see few overlaps between the boxplots, indicating a good heterogeneity between the clusters. It can be due to their small since six of them contain only two countries each. But some, and particularly the first one, have extended boxes that stipulate generalized groups with disparate countries. We note that the first cluster, which has the most extended boxplots, is also the largest in terms of the number of countries.\n",
    " \n",
    "The Income and GDPP graphs show some distinguished clusters. We can see that clusters: 3, 4, 6, 8, 9, 11, and 12 have the lowest Net Income per person and lowest GDP per Capita. We can see that these same clusters have an economic unbalance with their imports exceeding their exports. Among these clusters, 3, 4, 8, and 9 have the highest children mortality and fertility rates. And the lowest life expectancy. These Factors indicate that clusters 3, 4, 6, 8, 9, 11, and 12 require humanitarian help, and most urgently the clusters 3, 4, 8, and 9.\n",
    "\n",
    "This clustering is not appropriate for our case study. Since 60 countries are not clustered and remained singleton. And if we want to determine with certainty all the countries that require assistance, we will have to analyze all of them, which is not feasible. If we choose a higher distance threshold, we will certainly obtain fewer singletons. But we will get generalized clusters, such as cluster 1, that are difficult to analyze. \n",
    "In the future, we will look into other linkage criteria than the Single Linkage criterion.\n",
    "\n",
    "\n",
    "## Complete Linkage Clustering\n",
    "This section will focus on *Agglomerative clustering* using **Complete Linkage Criterion**.\n",
    "\n",
    "Complete Linkage Criterion: is an agglomerative clustering method where we merge the pair of clusters (s) and (r) with the smallest distance. And the new distance between the new formed cluster (rs) and a point i is $d[(rs),i] = max(d[(r),i],d[(s),i])$. The difference between single and complete linkage is that the first one considers the distance between two clusters as the distance between their closest points, and the latter the farthest points.\n",
    "\n",
    "### Clustering using the scipy linkage\n",
    "We will use the same function as we did with the single linkage, except for using 'complete' as the linkage method attribute."
   ]
  },
  {
   "cell_type": "code",
   "execution_count": 22,
   "metadata": {},
   "outputs": [
    {
     "data": {
      "text/plain": [
       "array([[ 41.        , 121.        ,   0.27051092,   2.        ],\n",
       "       [ 75.        , 139.        ,   0.34593963,   2.        ],\n",
       "       [ 24.        ,  85.        ,   0.42313147,   2.        ],\n",
       "       [111.        , 158.        ,   0.49433038,   2.        ],\n",
       "       [100.        , 169.        ,   0.5397    ,   3.        ],\n",
       "       [ 60.        , 122.        ,   0.54410516,   2.        ],\n",
       "       [  1.        ,  48.        ,   0.55954063,   2.        ],\n",
       "       [ 53.        , 144.        ,   0.56879938,   2.        ],\n",
       "       [ 29.        ,  54.        ,   0.59031996,   2.        ],\n",
       "       [ 20.        , 130.        ,   0.60456236,   2.        ],\n",
       "       [  6.        ,  76.        ,   0.61339705,   2.        ],\n",
       "       [ 13.        , 167.        ,   0.61545368,   3.        ],\n",
       "       [ 56.        , 129.        ,   0.62753127,   2.        ],\n",
       "       [ 43.        , 135.        ,   0.63991284,   2.        ],\n",
       "       [ 51.        ,  90.        ,   0.64951993,   2.        ]])"
      ]
     },
     "execution_count": 22,
     "metadata": {},
     "output_type": "execute_result"
    }
   ],
   "source": [
    "# Clustering using the scipy linkage\n",
    "Z_complete = linkage(pdist(X), 'complete')\n",
    "Z_complete[:15]"
   ]
  },
  {
   "cell_type": "code",
   "execution_count": 23,
   "metadata": {},
   "outputs": [
    {
     "data": {
      "text/plain": [
       "array([[273.        , 304.        ,   4.53179056,  10.        ],\n",
       "       [296.        , 302.        ,   4.56137466,  19.        ],\n",
       "       [307.        , 309.        ,   4.95622989,  23.        ],\n",
       "       [131.        , 318.        ,   5.26647515,  11.        ],\n",
       "       [316.        , 319.        ,   5.32172932,  35.        ],\n",
       "       [315.        , 320.        ,   5.5342533 ,  84.        ],\n",
       "       [317.        , 322.        ,   5.67761783,  53.        ],\n",
       "       [ 91.        , 312.        ,   5.74579169,   3.        ],\n",
       "       [ 66.        , 324.        ,   6.58405927,  54.        ],\n",
       "       [321.        , 323.        ,   7.15082036,  95.        ],\n",
       "       [123.        , 314.        ,   7.42879567,  14.        ],\n",
       "       [327.        , 328.        ,   8.62565548, 109.        ],\n",
       "       [113.        , 326.        ,  10.78271216,  55.        ],\n",
       "       [325.        , 329.        ,  11.77961221, 112.        ],\n",
       "       [330.        , 331.        ,  14.98399851, 167.        ]])"
      ]
     },
     "execution_count": 23,
     "metadata": {},
     "output_type": "execute_result"
    }
   ],
   "source": [
    "Z_complete[-15:]"
   ]
  },
  {
   "cell_type": "markdown",
   "metadata": {},
   "source": [
    "When comparing the single and complete linkage matrices, We can notice that the distance values in the latter range are between 0.27 and 14.98, whereas in the first, they range between 0.27 and 6.84.<br>\n",
    "We can also note that the last two clusters to be joined had 55 and 112 countries each, which indicates that the clusters are more populated, and thereby our conclusions will be more meaningful than those we draw from the single linkage.<br>\n",
    "To determine the distance threshold for clusters to be joined, we will draw the dendrogram of our linkage matrix with the lines of our potential merge maximal distances. "
   ]
  },
  {
   "cell_type": "code",
   "execution_count": 24,
   "metadata": {},
   "outputs": [
    {
     "data": {
      "image/png": "[encoded data removed]",
      "text/plain": [
       "<Figure size 1440x720 with 1 Axes>"
      ]
     },
     "metadata": {
      "needs_background": "light"
     },
     "output_type": "display_data"
    }
   ],
   "source": [
    "fig = plt.figure(figsize=(20, 10))\n",
    "dn = dendrogram(Z_complete,truncate_mode='level',p=8,get_leaves=False,leaf_font_size=12.,)\n",
    "\n",
    "plt.axhline(y=10)\n",
    "plt.axhline(y=8)\n",
    "plt.axhline(y=6)\n",
    "plt.axhline(y=5)\n",
    "plt.axhline(y=4)\n",
    "plt.axhline(y=2)\n",
    "plt.show()"
   ]
  },
  {
   "cell_type": "markdown",
   "metadata": {},
   "source": [
    "We can see that choosing high thresholds (greater than 8) will assure a small number of clusters (5 clusters or less) with only one singleton (country index 113), but it may produce generalized clusters.<br>\n",
    "The low thresholds (smaller than 5), on the other hand, guarantee compact clusters, but their number will be high (12 clusters or more), and the clusterization will lose its purpose.<br>\n",
    "A maximal distance of 6 seems a fair threshold. It will return 8 clusters, a more reasonable partitioning, and We can see that the distance between the levels gets significantly higher after this threshold.<br>"
   ]
  },
  {
   "cell_type": "code",
   "execution_count": 25,
   "metadata": {},
   "outputs": [
    {
     "data": {
      "text/html": [
       "<div>\n",
       "<style scoped>\n",
       "    .dataframe tbody tr th:only-of-type {\n",
       "        vertical-align: middle;\n",
       "    }\n",
       "\n",
       "    .dataframe tbody tr th {\n",
       "        vertical-align: top;\n",
       "    }\n",
       "\n",
       "    .dataframe thead th {\n",
       "        text-align: right;\n",
       "    }\n",
       "</style>\n",
       "<table border=\"1\" class=\"dataframe\">\n",
       "  <thead>\n",
       "    <tr style=\"text-align: right;\">\n",
       "      <th></th>\n",
       "      <th>child_mort</th>\n",
       "      <th>exports</th>\n",
       "      <th>health</th>\n",
       "      <th>imports</th>\n",
       "      <th>income</th>\n",
       "      <th>inflation</th>\n",
       "      <th>life_expec</th>\n",
       "      <th>total_fer</th>\n",
       "      <th>gdpp</th>\n",
       "      <th>Complete_Clusters_1</th>\n",
       "    </tr>\n",
       "    <tr>\n",
       "      <th>country</th>\n",
       "      <th></th>\n",
       "      <th></th>\n",
       "      <th></th>\n",
       "      <th></th>\n",
       "      <th></th>\n",
       "      <th></th>\n",
       "      <th></th>\n",
       "      <th></th>\n",
       "      <th></th>\n",
       "      <th></th>\n",
       "    </tr>\n",
       "  </thead>\n",
       "  <tbody>\n",
       "    <tr>\n",
       "      <th>Afghanistan</th>\n",
       "      <td>90.2</td>\n",
       "      <td>10.0</td>\n",
       "      <td>7.58</td>\n",
       "      <td>44.9</td>\n",
       "      <td>1610</td>\n",
       "      <td>9.44</td>\n",
       "      <td>56.2</td>\n",
       "      <td>5.82</td>\n",
       "      <td>553</td>\n",
       "      <td>1</td>\n",
       "    </tr>\n",
       "    <tr>\n",
       "      <th>Albania</th>\n",
       "      <td>16.6</td>\n",
       "      <td>28.0</td>\n",
       "      <td>6.55</td>\n",
       "      <td>48.6</td>\n",
       "      <td>9930</td>\n",
       "      <td>4.49</td>\n",
       "      <td>76.3</td>\n",
       "      <td>1.65</td>\n",
       "      <td>4090</td>\n",
       "      <td>6</td>\n",
       "    </tr>\n",
       "    <tr>\n",
       "      <th>Algeria</th>\n",
       "      <td>27.3</td>\n",
       "      <td>38.4</td>\n",
       "      <td>4.17</td>\n",
       "      <td>31.4</td>\n",
       "      <td>12900</td>\n",
       "      <td>16.10</td>\n",
       "      <td>76.5</td>\n",
       "      <td>2.89</td>\n",
       "      <td>4460</td>\n",
       "      <td>6</td>\n",
       "    </tr>\n",
       "    <tr>\n",
       "      <th>Angola</th>\n",
       "      <td>119.0</td>\n",
       "      <td>62.3</td>\n",
       "      <td>2.85</td>\n",
       "      <td>42.9</td>\n",
       "      <td>5900</td>\n",
       "      <td>22.40</td>\n",
       "      <td>60.1</td>\n",
       "      <td>6.16</td>\n",
       "      <td>3530</td>\n",
       "      <td>1</td>\n",
       "    </tr>\n",
       "    <tr>\n",
       "      <th>Antigua and Barbuda</th>\n",
       "      <td>10.3</td>\n",
       "      <td>45.5</td>\n",
       "      <td>6.03</td>\n",
       "      <td>58.9</td>\n",
       "      <td>19100</td>\n",
       "      <td>1.44</td>\n",
       "      <td>76.8</td>\n",
       "      <td>2.13</td>\n",
       "      <td>12200</td>\n",
       "      <td>6</td>\n",
       "    </tr>\n",
       "  </tbody>\n",
       "</table>\n",
       "</div>"
      ],
      "text/plain": [
       "                     child_mort  exports  health  imports  income  inflation  \\\n",
       "country                                                                        \n",
       "Afghanistan                90.2     10.0    7.58     44.9    1610       9.44   \n",
       "Albania                    16.6     28.0    6.55     48.6    9930       4.49   \n",
       "Algeria                    27.3     38.4    4.17     31.4   12900      16.10   \n",
       "Angola                    119.0     62.3    2.85     42.9    5900      22.40   \n",
       "Antigua and Barbuda        10.3     45.5    6.03     58.9   19100       1.44   \n",
       "\n",
       "                     life_expec  total_fer   gdpp  Complete_Clusters_1  \n",
       "country                                                                 \n",
       "Afghanistan                56.2       5.82    553                    1  \n",
       "Albania                    76.3       1.65   4090                    6  \n",
       "Algeria                    76.5       2.89   4460                    6  \n",
       "Angola                     60.1       6.16   3530                    1  \n",
       "Antigua and Barbuda        76.8       2.13  12200                    6  "
      ]
     },
     "execution_count": 25,
     "metadata": {},
     "output_type": "execute_result"
    }
   ],
   "source": [
    "max_dist=6\n",
    "country_data['Complete_Clusters_1'] = fcluster(Z_complete, t=max_dist, criterion='distance')\n",
    "columns = list(features)+['Complete_Clusters_1']\n",
    "country_data[columns].head()"
   ]
  },
  {
   "cell_type": "code",
   "execution_count": 26,
   "metadata": {},
   "outputs": [
    {
     "data": {
      "text/plain": [
       "8"
      ]
     },
     "execution_count": 26,
     "metadata": {},
     "output_type": "execute_result"
    }
   ],
   "source": [
    "len(np.unique(country_data.Complete_Clusters_1))"
   ]
  },
  {
   "cell_type": "code",
   "execution_count": 27,
   "metadata": {},
   "outputs": [
    {
     "data": {
      "text/plain": [
       "6    84\n",
       "1    53\n",
       "7    13\n",
       "5    11\n",
       "4     3\n",
       "8     1\n",
       "3     1\n",
       "2     1\n",
       "Name: Complete_Clusters_1, dtype: int64"
      ]
     },
     "execution_count": 27,
     "metadata": {},
     "output_type": "execute_result"
    }
   ],
   "source": [
    "country_data.Complete_Clusters_1.value_counts()"
   ]
  },
  {
   "cell_type": "markdown",
   "metadata": {},
   "source": [
    "As we saw in the dendrogram, we get 8 clusters with our chosen threshold. We obtained three singletons, one cluster of 3 countries, and the rest of the groups count respectively 11, 13, 53, and 84 countries. This partitioning is not equally proportional, but we will see in the results section if it is just or not.\n",
    "\n",
    "## Clustering using Sklearn *AgglomerativeClustering*\n",
    "The sklearn agglomerative clusterization is via the python class AgglomerativeClustering. We will create an instance of this class with the attributes: Complete linkage and maximal distance 8 to compare the results with those of the scipy library."
   ]
  },
  {
   "cell_type": "code",
   "execution_count": 28,
   "metadata": {},
   "outputs": [
    {
     "data": {
      "text/plain": [
       "8"
      ]
     },
     "execution_count": 28,
     "metadata": {},
     "output_type": "execute_result"
    }
   ],
   "source": [
    "model = AgglomerativeClustering(distance_threshold=max_dist, n_clusters=None, linkage= 'complete')\n",
    "country_data['Complete_Clusters_2'] = model.fit_predict(X)\n",
    "len(np.unique(country_data.Complete_Clusters_2))"
   ]
  },
  {
   "cell_type": "code",
   "execution_count": 29,
   "metadata": {},
   "outputs": [
    {
     "data": {
      "text/plain": [
       "1    84\n",
       "2    53\n",
       "4    13\n",
       "6    11\n",
       "0     3\n",
       "7     1\n",
       "5     1\n",
       "3     1\n",
       "Name: Complete_Clusters_2, dtype: int64"
      ]
     },
     "execution_count": 29,
     "metadata": {},
     "output_type": "execute_result"
    }
   ],
   "source": [
    "country_data.Complete_Clusters_2.value_counts()"
   ]
  },
  {
   "cell_type": "code",
   "execution_count": 30,
   "metadata": {},
   "outputs": [
    {
     "name": "stdout",
     "output_type": "stream",
     "text": [
      "1\n",
      "1\n",
      "1\n",
      "1\n",
      "1\n",
      "1\n",
      "1\n",
      "1\n"
     ]
    }
   ],
   "source": [
    "for i in np.unique(country_data.Complete_Clusters_2):\n",
    "    print(len(np.unique(country_data[country_data['Complete_Clusters_2']==i].Complete_Clusters_1)))"
   ]
  },
  {
   "cell_type": "markdown",
   "metadata": {},
   "source": [
    "We can see that Sklearn obtained the same clustering as the scipy library. In the following, we will be comparing our from scratch algorithms results with those of the scipy. It will be redundant to compare with the sklearn also.\n",
    "## Clustering using Cluserting_Algorithms module\n",
    "In this section, we will test our class AgglomerativeClustering_fs. We will follow the same steps, but we will create our model instance with the attribute linkage='compelete'.<br>"
   ]
  },
  {
   "cell_type": "code",
   "execution_count": 31,
   "metadata": {},
   "outputs": [
    {
     "data": {
      "text/plain": [
       "array([[ 41.        , 121.        ,   0.27051092,   2.        ],\n",
       "       [ 75.        , 139.        ,   0.34593963,   2.        ],\n",
       "       [ 24.        ,  85.        ,   0.42313147,   2.        ],\n",
       "       [111.        , 158.        ,   0.49433038,   2.        ],\n",
       "       [100.        , 169.        ,   0.5397    ,   3.        ]])"
      ]
     },
     "execution_count": 31,
     "metadata": {},
     "output_type": "execute_result"
    }
   ],
   "source": [
    "#Clustering using Cluserting_Algorithms module\n",
    "model_new = AgglomerativeClustering_fs.AgglomerativeClustering_fs(linkage='complete')\n",
    "model_new.fit(X)\n",
    "L_complete = model_new.L\n",
    "L_complete[:5]"
   ]
  },
  {
   "cell_type": "code",
   "execution_count": 32,
   "metadata": {},
   "outputs": [
    {
     "data": {
      "text/plain": [
       "True"
      ]
     },
     "execution_count": 32,
     "metadata": {},
     "output_type": "execute_result"
    }
   ],
   "source": [
    "(Z_complete == L_complete).all()"
   ]
  },
  {
   "cell_type": "markdown",
   "metadata": {},
   "source": [
    "Our linkage matrix is equal to the scipy linkage matrix, which means that our implementation of the complete linkage criterion is correct. "
   ]
  },
  {
   "cell_type": "code",
   "execution_count": 33,
   "metadata": {},
   "outputs": [
    {
     "data": {
      "text/html": [
       "<div>\n",
       "<style scoped>\n",
       "    .dataframe tbody tr th:only-of-type {\n",
       "        vertical-align: middle;\n",
       "    }\n",
       "\n",
       "    .dataframe tbody tr th {\n",
       "        vertical-align: top;\n",
       "    }\n",
       "\n",
       "    .dataframe thead th {\n",
       "        text-align: right;\n",
       "    }\n",
       "</style>\n",
       "<table border=\"1\" class=\"dataframe\">\n",
       "  <thead>\n",
       "    <tr style=\"text-align: right;\">\n",
       "      <th></th>\n",
       "      <th>child_mort</th>\n",
       "      <th>exports</th>\n",
       "      <th>health</th>\n",
       "      <th>imports</th>\n",
       "      <th>income</th>\n",
       "      <th>inflation</th>\n",
       "      <th>life_expec</th>\n",
       "      <th>total_fer</th>\n",
       "      <th>gdpp</th>\n",
       "      <th>Complete_Clusters_3</th>\n",
       "    </tr>\n",
       "    <tr>\n",
       "      <th>country</th>\n",
       "      <th></th>\n",
       "      <th></th>\n",
       "      <th></th>\n",
       "      <th></th>\n",
       "      <th></th>\n",
       "      <th></th>\n",
       "      <th></th>\n",
       "      <th></th>\n",
       "      <th></th>\n",
       "      <th></th>\n",
       "    </tr>\n",
       "  </thead>\n",
       "  <tbody>\n",
       "    <tr>\n",
       "      <th>Afghanistan</th>\n",
       "      <td>90.2</td>\n",
       "      <td>10.0</td>\n",
       "      <td>7.58</td>\n",
       "      <td>44.9</td>\n",
       "      <td>1610</td>\n",
       "      <td>9.44</td>\n",
       "      <td>56.2</td>\n",
       "      <td>5.82</td>\n",
       "      <td>553</td>\n",
       "      <td>3</td>\n",
       "    </tr>\n",
       "    <tr>\n",
       "      <th>Albania</th>\n",
       "      <td>16.6</td>\n",
       "      <td>28.0</td>\n",
       "      <td>6.55</td>\n",
       "      <td>48.6</td>\n",
       "      <td>9930</td>\n",
       "      <td>4.49</td>\n",
       "      <td>76.3</td>\n",
       "      <td>1.65</td>\n",
       "      <td>4090</td>\n",
       "      <td>1</td>\n",
       "    </tr>\n",
       "    <tr>\n",
       "      <th>Algeria</th>\n",
       "      <td>27.3</td>\n",
       "      <td>38.4</td>\n",
       "      <td>4.17</td>\n",
       "      <td>31.4</td>\n",
       "      <td>12900</td>\n",
       "      <td>16.10</td>\n",
       "      <td>76.5</td>\n",
       "      <td>2.89</td>\n",
       "      <td>4460</td>\n",
       "      <td>1</td>\n",
       "    </tr>\n",
       "    <tr>\n",
       "      <th>Angola</th>\n",
       "      <td>119.0</td>\n",
       "      <td>62.3</td>\n",
       "      <td>2.85</td>\n",
       "      <td>42.9</td>\n",
       "      <td>5900</td>\n",
       "      <td>22.40</td>\n",
       "      <td>60.1</td>\n",
       "      <td>6.16</td>\n",
       "      <td>3530</td>\n",
       "      <td>3</td>\n",
       "    </tr>\n",
       "    <tr>\n",
       "      <th>Antigua and Barbuda</th>\n",
       "      <td>10.3</td>\n",
       "      <td>45.5</td>\n",
       "      <td>6.03</td>\n",
       "      <td>58.9</td>\n",
       "      <td>19100</td>\n",
       "      <td>1.44</td>\n",
       "      <td>76.8</td>\n",
       "      <td>2.13</td>\n",
       "      <td>12200</td>\n",
       "      <td>1</td>\n",
       "    </tr>\n",
       "  </tbody>\n",
       "</table>\n",
       "</div>"
      ],
      "text/plain": [
       "                     child_mort  exports  health  imports  income  inflation  \\\n",
       "country                                                                        \n",
       "Afghanistan                90.2     10.0    7.58     44.9    1610       9.44   \n",
       "Albania                    16.6     28.0    6.55     48.6    9930       4.49   \n",
       "Algeria                    27.3     38.4    4.17     31.4   12900      16.10   \n",
       "Angola                    119.0     62.3    2.85     42.9    5900      22.40   \n",
       "Antigua and Barbuda        10.3     45.5    6.03     58.9   19100       1.44   \n",
       "\n",
       "                     life_expec  total_fer   gdpp  Complete_Clusters_3  \n",
       "country                                                                 \n",
       "Afghanistan                56.2       5.82    553                    3  \n",
       "Albania                    76.3       1.65   4090                    1  \n",
       "Algeria                    76.5       2.89   4460                    1  \n",
       "Angola                     60.1       6.16   3530                    3  \n",
       "Antigua and Barbuda        76.8       2.13  12200                    1  "
      ]
     },
     "execution_count": 33,
     "metadata": {},
     "output_type": "execute_result"
    }
   ],
   "source": [
    "country_data['Complete_Clusters_3'] = model_new.get_labels(max_dist=max_dist)\n",
    "columns = list(features)+['Complete_Clusters_3']\n",
    "country_data[columns].head()"
   ]
  },
  {
   "cell_type": "code",
   "execution_count": 34,
   "metadata": {},
   "outputs": [
    {
     "data": {
      "text/plain": [
       "8"
      ]
     },
     "execution_count": 34,
     "metadata": {},
     "output_type": "execute_result"
    }
   ],
   "source": [
    "len(np.unique(country_data.Complete_Clusters_3))"
   ]
  },
  {
   "cell_type": "code",
   "execution_count": 35,
   "metadata": {},
   "outputs": [
    {
     "data": {
      "text/plain": [
       "1    84\n",
       "3    53\n",
       "2    13\n",
       "4    11\n",
       "5     3\n",
       "8     1\n",
       "7     1\n",
       "6     1\n",
       "Name: Complete_Clusters_3, dtype: int64"
      ]
     },
     "execution_count": 35,
     "metadata": {},
     "output_type": "execute_result"
    }
   ],
   "source": [
    "country_data.Complete_Clusters_3.value_counts()"
   ]
  },
  {
   "cell_type": "code",
   "execution_count": 36,
   "metadata": {},
   "outputs": [
    {
     "name": "stdout",
     "output_type": "stream",
     "text": [
      "1\n",
      "1\n",
      "1\n",
      "1\n",
      "1\n",
      "1\n",
      "1\n",
      "1\n"
     ]
    }
   ],
   "source": [
    "for i in np.unique(country_data.Complete_Clusters_3):\n",
    "    print(len(np.unique(country_data[country_data['Complete_Clusters_3']==i].Complete_Clusters_1)))"
   ]
  },
  {
   "cell_type": "markdown",
   "metadata": {},
   "source": [
    "We obtained the same clusters as Scipy; 8 clusters of sizes ranging from 1 to 84 countries.<br>\n",
    "## Complete Linkage Clustering Results"
   ]
  },
  {
   "cell_type": "code",
   "execution_count": 37,
   "metadata": {},
   "outputs": [
    {
     "data": {
      "text/plain": [
       "Complete_Clusters_3\n",
       "1    Albania,Algeria,Antigua and Barbuda,Argentina,Armenia,Azerbaijan,Bahamas,Bangladesh,Barbados,Belarus,Belize,Bolivia,Bosnia and Herzegovina,Brazil,Bulgaria,Cape Verde,Chile,China,Colombia,Costa Rica,Croatia,Cyprus,Czech Republic,Dominican Republic,Ecuador,Egypt,El Salvador,Eritrea,Estonia,Gabon,Georgia,Greece,Grenada,Guatemala,Hungary,India,Indonesia,Iran,Israel,Italy,Jamaica,Jordan,Kazakhstan,Latvia,Lebanon,Lithuania,Macedonia, FYR,Malaysia,Maldives,Mauritius,Moldova,Mongolia,Montenegro,Morocco,Myanmar,Nepal,New Zealand,Pakistan,Panama,Paraguay,Peru,Philippines,Poland,Portugal,Romania,Russia,Serbia,Slovak Republic,Slovenia,South Korea,Spain,Sri Lanka,St. Vincent and the Grenadines,Suriname,Thailand,Tunisia,Turkey,Turkmenistan,Ukraine,United Kingdom,Uruguay,Uzbekistan,Venezuela,Vietnam\n",
       "2                                                                                                                                                                                                                                                                                                                                                                                                                                                                                                                                                                                                                                                                                                                  Australia,Austria,Canada,Denmark,Finland,France,Germany,Iceland,Japan,Norway,Sweden,Switzerland,United States\n",
       "3                                                                                                                                                                                                                                                                                                          Afghanistan,Angola,Benin,Bhutan,Botswana,Burkina Faso,Burundi,Cambodia,Cameroon,Central African Republic,Chad,Comoros,Congo, Dem. Rep.,Congo, Rep.,Cote d'Ivoire,Equatorial Guinea,Fiji,Gambia,Ghana,Guinea,Guinea-Bissau,Guyana,Iraq,Kenya,Kiribati,Kyrgyz Republic,Lao,Lesotho,Liberia,Madagascar,Malawi,Mali,Mauritania,Micronesia, Fed. Sts.,Mozambique,Namibia,Niger,Rwanda,Samoa,Senegal,Sierra Leone,Solomon Islands,South Africa,Sudan,Tajikistan,Tanzania,Timor-Leste,Togo,Tonga,Uganda,Vanuatu,Yemen,Zambia\n",
       "4                                                                                                                                                                                                                                                                                                                                                                                                                                                                                                                                                                                                                                                                                                                      Bahrain,Belgium,Brunei,Ireland,Kuwait,Libya,Netherlands,Oman,Saudi Arabia,Seychelles,United Arab Emirates\n",
       "5                                                                                                                                                                                                                                                                                                                                                                                                                                                                                                                                                                                                                                                                                                                                                                                                     Luxembourg,Malta,Singapore\n",
       "6                                                                                                                                                                                                                                                                                                                                                                                                                                                                                                                                                                                                                                                                                                                                                                                                                          Haiti\n",
       "7                                                                                                                                                                                                                                                                                                                                                                                                                                                                                                                                                                                                                                                                                                                                                                                                                          Qatar\n",
       "8                                                                                                                                                                                                                                                                                                                                                                                                                                                                                                                                                                                                                                                                                                                                                                                                                        Nigeria\n",
       "Name: country, dtype: object"
      ]
     },
     "execution_count": 37,
     "metadata": {},
     "output_type": "execute_result"
    }
   ],
   "source": [
    "country_data[columns].reset_index().groupby(by='Complete_Clusters_3')['country'].apply(lambda x: ','.join(x))"
   ]
  },
  {
   "cell_type": "code",
   "execution_count": 38,
   "metadata": {},
   "outputs": [
    {
     "data": {
      "image/png": "[encoded data removed]",
      "text/plain": [
       "<Figure size 2016x1800 with 9 Axes>"
      ]
     },
     "metadata": {
      "needs_background": "light"
     },
     "output_type": "display_data"
    }
   ],
   "source": [
    "fig, axes = plt.subplots(nrows=3, ncols=3, figsize=(28, 25))\n",
    "\n",
    "country_data[country_data['Complete_Clusters_3'].isin(clusters_labels)].boxplot(column=['exports'],by='Complete_Clusters_3', fontsize=12,ax=axes[0][0])\n",
    "country_data[country_data['Complete_Clusters_3'].isin(clusters_labels)].boxplot(column=['imports'],by='Complete_Clusters_3',ax=axes[0][1])\n",
    "country_data[country_data['Complete_Clusters_3'].isin(clusters_labels)].boxplot(column=['health'],by='Complete_Clusters_3',ax=axes[0][2])\n",
    "\n",
    "country_data[country_data['Complete_Clusters_3'].isin(clusters_labels)].boxplot(column=['income'],by='Complete_Clusters_3',ax=axes[1][0])\n",
    "country_data[country_data['Complete_Clusters_3'].isin(clusters_labels)].boxplot(column=['inflation'],by='Complete_Clusters_3',ax=axes[1][1])\n",
    "country_data[country_data['Complete_Clusters_3'].isin(clusters_labels)].boxplot(column=['gdpp'],by='Complete_Clusters_3',ax=axes[1][2])\n",
    "\n",
    "country_data[country_data['Complete_Clusters_3'].isin(clusters_labels)].boxplot(column=['child_mort'],by='Complete_Clusters_3',ax=axes[2][0])\n",
    "country_data[country_data['Complete_Clusters_3'].isin(clusters_labels)].boxplot(column=['life_expec'],by='Complete_Clusters_3',ax=axes[2][1])\n",
    "country_data[country_data['Complete_Clusters_3'].isin(clusters_labels)].boxplot(column=['total_fer'],by='Complete_Clusters_3',ax=axes[2][2])\n",
    "\n",
    "fig.suptitle('Socio-Economic and Health Factors', fontsize=16)\n",
    "plt.savefig('./Img/Socio_Economic_Health_Factors_2.png')"
   ]
  },
  {
   "cell_type": "markdown",
   "metadata": {},
   "source": [
    "Since we included the singletons in our boxplots, we can't help but notice these three countries first, so we will start but analyzing them:\n",
    "- Singleton 6: This country shows an economic unbalance with its exports contributing to less than 25% of its GDPP and its imports representing more than 60%. It has the lowest income per person, GDPP, and life expectancy. And the highest children mortality with more than 200 children per 1000 live births dying under five years of age. This country needs the most urgent humanitarian assistance. If we go back to the list of countries per cluster, we can see that this country is Haiti.\n",
    "- Singleton 7: This country shows signs of a healthy economy. Its exports contribute to more than double the value of their imports. It has the highest income per person and one of the highest GDPP. It also has one of the highest life expectancies and lowest children mortality under five. One singularity of this seemingly wealthy country is that it has the lowest Total health spending per capita. This singularity may be why it was a singleton. We can't consider this country as a poor one; it doesn't require any humanitarian assistance. From the preceding cell, we can see that it is Qatar.\n",
    "- Singleton 8: This country has few singularities. It has a low income per person, a low GDPP but the highest inflation, and one of the highest mortality rates among children under five. It also has a low life expectancy, approximately 60, and one of the highest fertility rates. These factors' values indicate that this country is a developing country with a high inflation rate. But it is still battling problems of underdeveloped countries such as low income per person and life expectancy. This country is Nigeria.\n",
    "\n",
    "If we look into the other clusters, we can notice that cluster 3 has the lowest income per person, lowest GDPP. And although its boxplots of the factors children mortality, life expectancy, and total fertility, are extended implying heterogeneity, they are the worst compared to the other groups. These countries require humanitarian assistance. \n",
    "\n",
    "Another cluster that catches our attention is the first cluster. We can see that it has the most outliers across the graphs, it may indicate a heterogeneous group, and we may need to lower our distance threshold.  We see that this cluster has a low GDPP median, but few of its countries have a GDPP higher than 20000 dollars. Similarly, it has a relatively low infant mortality rate, but few of its members count more than 50 death of children under 5 per 1000 live births. These results, along with the cluster's large size, indicate that we may have some countries in the group that require assistance and others not. We need to reduce the distance and check if we obtain a more granular cluster.\n",
    "\n",
    "In the next section, We will jump into another linkage criterion."
   ]
  }
 ],
 "metadata": {
  "kernelspec": {
   "display_name": "Python 3",
   "language": "python",
   "name": "python3"
  },
  "language_info": {
   "codemirror_mode": {
    "name": "ipython",
    "version": 3
   },
   "file_extension": ".py",
   "mimetype": "text/x-python",
   "name": "python",
   "nbconvert_exporter": "python",
   "pygments_lexer": "ipython3",
   "version": "3.7.6"
  }
 },
 "nbformat": 4,
 "nbformat_minor": 4
}
